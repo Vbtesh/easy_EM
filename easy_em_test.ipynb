{
 "metadata": {
  "language_info": {
   "codemirror_mode": {
    "name": "ipython",
    "version": 3
   },
   "file_extension": ".py",
   "mimetype": "text/x-python",
   "name": "python",
   "nbconvert_exporter": "python",
   "pygments_lexer": "ipython3",
   "version": "3.8.6-final"
  },
  "orig_nbformat": 2,
  "kernelspec": {
   "name": "python3",
   "display_name": "Python 3",
   "language": "python"
  }
 },
 "nbformat": 4,
 "nbformat_minor": 2,
 "cells": [
  {
   "cell_type": "code",
   "execution_count": 2,
   "metadata": {},
   "outputs": [],
   "source": [
    "import numpy as np\n",
    "from classes.gaussian import Gaussian_mean\n",
    "from classes.poisson import Poisson\n",
    "from classes.multinomial import Multinomial\n",
    "from methods.general import normArray\n",
    "import scipy.stats as stats\n",
    "from scipy.special import gamma"
   ]
  },
  {
   "cell_type": "code",
   "execution_count": 9,
   "metadata": {},
   "outputs": [
    {
     "output_type": "stream",
     "name": "stdout",
     "text": [
      "[[2]\n [1]\n [0]\n [2]\n [1]\n [0]]\nTrue\n"
     ]
    },
    {
     "output_type": "execute_result",
     "data": {
      "text/plain": [
       "array([[0.57177513, 0.17710017, 0.33629181, 0.26768731],\n",
       "       [0.38255002, 0.45751597, 0.22249206, 0.34206496],\n",
       "       [0.04567485, 0.36538386, 0.44121613, 0.39024773],\n",
       "       [0.57177513, 0.17710017, 0.33629181, 0.26768731],\n",
       "       [0.38255002, 0.45751597, 0.22249206, 0.34206496],\n",
       "       [0.04567485, 0.36538386, 0.44121613, 0.39024773]])"
      ]
     },
     "metadata": {},
     "execution_count": 9
    }
   ],
   "source": [
    "c = 4\n",
    "d = 6\n",
    "data_m = np.array([2, 1, 0, 2, 1, 0]).reshape((d, 1))\n",
    "print(data_m)\n",
    "\n",
    "mult = Multinomial('multi', c, data=data_m, num_outcomes=3)\n",
    "\n",
    "print(isinstance(data_m, np.ndarray))\n",
    "\n",
    "mult.params[data_m.flatten(), :]\n"
   ]
  },
  {
   "cell_type": "code",
   "execution_count": 12,
   "metadata": {},
   "outputs": [
    {
     "output_type": "execute_result",
     "data": {
      "text/plain": [
       "(array([0, 3], dtype=int64), array([0, 0], dtype=int64))"
      ]
     },
     "metadata": {},
     "execution_count": 12
    }
   ],
   "source": [
    "mult.likelihood.sum(axis=1)\n",
    "np.where(mult.likelihood > 0.5)"
   ]
  },
  {
   "cell_type": "code",
   "execution_count": 22,
   "metadata": {},
   "outputs": [
    {
     "output_type": "execute_result",
     "data": {
      "text/plain": [
       "array([1., 1., 1., 1.])"
      ]
     },
     "metadata": {},
     "execution_count": 22
    }
   ],
   "source": [
    "mult.params.sum(axis=0)"
   ]
  },
  {
   "cell_type": "code",
   "execution_count": 23,
   "metadata": {},
   "outputs": [
    {
     "output_type": "execute_result",
     "data": {
      "text/plain": [
       "array([[-2. , -1. , -0.2, -1. ],\n",
       "       [-2. , -1. , -0.2, -1. ],\n",
       "       [-2. , -1. , -0.2, -1. ],\n",
       "       [-2. , -1. , -0.2, -1. ],\n",
       "       [-2. , -1. , -0.2, -1. ],\n",
       "       [-2. , -1. , -0.2, -1. ],\n",
       "       [-2. , -1. , -0.2, -1. ],\n",
       "       [-2. , -1. , -0.2, -1. ],\n",
       "       [-2. , -1. , -0.2, -1. ],\n",
       "       [-2. , -1. , -0.2, -1. ]])"
      ]
     },
     "metadata": {},
     "execution_count": 23
    }
   ],
   "source": [
    "lp = np.array([-2, -1, -0.2, -1])\n",
    "\n",
    "lp * np.ones((10, 4))"
   ]
  },
  {
   "cell_type": "code",
   "execution_count": 18,
   "metadata": {},
   "outputs": [
    {
     "output_type": "stream",
     "name": "stdout",
     "text": [
      "[0.2 0.3 0.1 0.2]\n[0.25  0.375 0.125 0.25 ]\n[-1.60943791 -1.2039728  -2.30258509 -1.60943791]\n[0.08986579 0.13479869 0.0449329  0.08986579]\n"
     ]
    }
   ],
   "source": [
    "a = np.array([0.2, 0.3, 0.1, 0.2])\n",
    "b = np.log(a)\n",
    "b_norm = np.exp(b - np.sum(a))\n",
    "print(a)\n",
    "print(a / np.sum(a))\n",
    "print(b)\n",
    "print(b_norm)\n"
   ]
  },
  {
   "cell_type": "code",
   "execution_count": 19,
   "metadata": {},
   "outputs": [
    {
     "output_type": "stream",
     "name": "stdout",
     "text": [
      "4\n[[0.202918   0.54289964 0.0138171  0.24036526]\n [0.121079   0.01871384 0.16963117 0.69057599]\n [0.30277826 0.20078698 0.35904451 0.13739025]]\n[[0.30277826 0.20078698 0.35904451 0.13739025]\n [0.121079   0.01871384 0.16963117 0.69057599]\n [0.202918   0.54289964 0.0138171  0.24036526]\n [0.30277826 0.20078698 0.35904451 0.13739025]]\n[[0.30277826 0.20078698 0.35904451 0.13739025]\n [0.121079   0.01871384 0.16963117 0.69057599]\n [0.202918   0.54289964 0.0138171  0.24036526]\n [0.30277826 0.20078698 0.35904451 0.13739025]]\n"
     ]
    },
    {
     "output_type": "execute_result",
     "data": {
      "text/plain": [
       "array([[0.30277826, 0.20078698, 0.35904451, 0.13739025],\n",
       "       [1.121079  , 1.01871384, 1.16963117, 1.69057599],\n",
       "       [0.202918  , 0.54289964, 0.0138171 , 0.24036526],\n",
       "       [0.30277826, 0.20078698, 0.35904451, 0.13739025]])"
      ]
     },
     "metadata": {},
     "execution_count": 19
    }
   ],
   "source": [
    "data_m = np.array([2, 1, 0, 2]).reshape((4, 1))\n",
    "\n",
    "c = 4 # Clusters\n",
    "o = 3 # Outcomes\n",
    "\n",
    "probs = np.random.uniform(size=(o, c))\n",
    "\n",
    "probs = normArray(probs, axis=1)\n",
    "\n",
    "likelihood = np.zeros((data_m.shape[0], c))\n",
    "print(len(data_m))\n",
    "print(probs)\n",
    "\n",
    "for i in range(len(data_m)):\n",
    "    likelihood[i,:] = probs[data_m[i], :]\n",
    "\n",
    "print(likelihood)\n",
    "\n",
    "lkh = probs[data_m, np.arange(0, c)]\n",
    "\n",
    "print(lkh)\n",
    "\n",
    "lkh[1] += np.array([1, 1, 1, 1])\n",
    "\n",
    "lkh"
   ]
  },
  {
   "cell_type": "code",
   "execution_count": 20,
   "metadata": {},
   "outputs": [
    {
     "output_type": "stream",
     "name": "stdout",
     "text": [
      "[[0.64323975 0.2825023  0.5253643 ]\n [0.06344625 0.35371314 0.11126613]\n [0.293314   0.36378456 0.36336956]]\n"
     ]
    }
   ],
   "source": [
    "mult = Multinomial('multi', 3, 3, data=data_m)"
   ]
  },
  {
   "cell_type": "code",
   "execution_count": null,
   "metadata": {},
   "outputs": [],
   "source": []
  },
  {
   "cell_type": "code",
   "execution_count": 21,
   "metadata": {},
   "outputs": [
    {
     "output_type": "stream",
     "name": "stdout",
     "text": [
      "[3 2 1]\n"
     ]
    },
    {
     "output_type": "execute_result",
     "data": {
      "text/plain": [
       "array([60, 40, 20])"
      ]
     },
     "metadata": {},
     "execution_count": 21
    }
   ],
   "source": [
    "data = np.array([2, 4, 1, 3, 5, 5]).reshape((6, 1))\n",
    "\n",
    "params = np.array([3, 2, 1])\n",
    "\n",
    "\n",
    "print(params)\n",
    "\n",
    "np.sum(data*params, axis=0)"
   ]
  },
  {
   "cell_type": "code",
   "execution_count": 22,
   "metadata": {},
   "outputs": [
    {
     "output_type": "error",
     "ename": "ValueError",
     "evalue": "The truth value of an array with more than one element is ambiguous. Use a.any() or a.all()",
     "traceback": [
      "\u001b[1;31m---------------------------------------------------------------------------\u001b[0m",
      "\u001b[1;31mValueError\u001b[0m                                Traceback (most recent call last)",
      "\u001b[1;32m<ipython-input-22-df7e60b9e943>\u001b[0m in \u001b[0;36m<module>\u001b[1;34m\u001b[0m\n\u001b[0;32m      1\u001b[0m \u001b[0mnorm\u001b[0m \u001b[1;33m=\u001b[0m \u001b[0mGaussian_mean\u001b[0m\u001b[1;33m(\u001b[0m\u001b[1;34m'norm'\u001b[0m\u001b[1;33m,\u001b[0m \u001b[0mparams\u001b[0m\u001b[1;33m,\u001b[0m \u001b[0mdata\u001b[0m\u001b[1;33m)\u001b[0m\u001b[1;33m\u001b[0m\u001b[1;33m\u001b[0m\u001b[0m\n\u001b[1;32m----> 2\u001b[1;33m \u001b[0mpois\u001b[0m \u001b[1;33m=\u001b[0m \u001b[0mPoisson\u001b[0m\u001b[1;33m(\u001b[0m\u001b[1;34m'poisson'\u001b[0m\u001b[1;33m,\u001b[0m \u001b[1;36m3\u001b[0m\u001b[1;33m,\u001b[0m \u001b[0mdata\u001b[0m\u001b[1;33m,\u001b[0m \u001b[0mrates\u001b[0m\u001b[1;33m=\u001b[0m\u001b[0mparams\u001b[0m\u001b[1;33m)\u001b[0m\u001b[1;33m\u001b[0m\u001b[1;33m\u001b[0m\u001b[0m\n\u001b[0m\u001b[0;32m      3\u001b[0m \u001b[1;33m\u001b[0m\u001b[0m\n\u001b[0;32m      4\u001b[0m \u001b[0mpois\u001b[0m\u001b[1;33m.\u001b[0m\u001b[0mparams\u001b[0m\u001b[1;33m\u001b[0m\u001b[1;33m\u001b[0m\u001b[0m\n",
      "\u001b[1;32mc:\\Users\\vbtes\\CompProjects\\P_Projects\\easy_EM\\classes\\poisson.py\u001b[0m in \u001b[0;36m__init__\u001b[1;34m(self, name, num_clusters, data, rates)\u001b[0m\n\u001b[0;32m      9\u001b[0m \u001b[1;33m\u001b[0m\u001b[0m\n\u001b[0;32m     10\u001b[0m         \u001b[1;31m# Can be a single parameter or a vector of parameters, usually the latter\u001b[0m\u001b[1;33m\u001b[0m\u001b[1;33m\u001b[0m\u001b[1;33m\u001b[0m\u001b[0m\n\u001b[1;32m---> 11\u001b[1;33m         \u001b[1;32mif\u001b[0m \u001b[0mrates\u001b[0m \u001b[1;33m!=\u001b[0m \u001b[1;32mNone\u001b[0m\u001b[1;33m:\u001b[0m\u001b[1;33m\u001b[0m\u001b[1;33m\u001b[0m\u001b[0m\n\u001b[0m\u001b[0;32m     12\u001b[0m             \u001b[1;31m# If none are given generate a vector of rate normally distributed around the sample mean with sample variance\u001b[0m\u001b[1;33m\u001b[0m\u001b[1;33m\u001b[0m\u001b[1;33m\u001b[0m\u001b[0m\n\u001b[0;32m     13\u001b[0m             \u001b[0mself\u001b[0m\u001b[1;33m.\u001b[0m\u001b[0mparams\u001b[0m \u001b[1;33m=\u001b[0m \u001b[0mnp\u001b[0m\u001b[1;33m.\u001b[0m\u001b[0mrandom\u001b[0m\u001b[1;33m.\u001b[0m\u001b[0mnormal\u001b[0m\u001b[1;33m(\u001b[0m\u001b[0mloc\u001b[0m\u001b[1;33m=\u001b[0m\u001b[0mnp\u001b[0m\u001b[1;33m.\u001b[0m\u001b[0mmean\u001b[0m\u001b[1;33m(\u001b[0m\u001b[0mdata\u001b[0m\u001b[1;33m)\u001b[0m\u001b[1;33m,\u001b[0m \u001b[0mscale\u001b[0m\u001b[1;33m=\u001b[0m\u001b[0mnp\u001b[0m\u001b[1;33m.\u001b[0m\u001b[0mvar\u001b[0m\u001b[1;33m(\u001b[0m\u001b[0mdata\u001b[0m\u001b[1;33m)\u001b[0m\u001b[1;33m,\u001b[0m \u001b[0msize\u001b[0m\u001b[1;33m=\u001b[0m\u001b[0mnum_clusters\u001b[0m\u001b[1;33m)\u001b[0m\u001b[1;33m\u001b[0m\u001b[1;33m\u001b[0m\u001b[0m\n",
      "\u001b[1;31mValueError\u001b[0m: The truth value of an array with more than one element is ambiguous. Use a.any() or a.all()"
     ]
    }
   ],
   "source": [
    "norm = Gaussian_mean('norm', params, data)\n",
    "pois = Poisson('poisson', 3, data, rates=params)\n",
    "\n",
    "pois.params"
   ]
  },
  {
   "cell_type": "code",
   "execution_count": null,
   "metadata": {},
   "outputs": [],
   "source": [
    "norm.likelihood"
   ]
  },
  {
   "cell_type": "code",
   "execution_count": null,
   "metadata": {},
   "outputs": [],
   "source": [
    "norm.log_likelihood"
   ]
  },
  {
   "cell_type": "code",
   "execution_count": null,
   "metadata": {},
   "outputs": [],
   "source": [
    "norm.log_likelihood + np.log(1 / np.sqrt(2 * np.pi * norm.variance))"
   ]
  },
  {
   "cell_type": "code",
   "execution_count": null,
   "metadata": {},
   "outputs": [],
   "source": [
    "stats.norm(params, np.sqrt(np.var(data))).pdf(data)"
   ]
  },
  {
   "cell_type": "code",
   "execution_count": null,
   "metadata": {},
   "outputs": [],
   "source": [
    "stats.norm(params, np.sqrt(np.var(data))).logpdf(data)"
   ]
  },
  {
   "cell_type": "code",
   "execution_count": null,
   "metadata": {},
   "outputs": [],
   "source": [
    "pois.likelihood"
   ]
  },
  {
   "cell_type": "code",
   "execution_count": null,
   "metadata": {},
   "outputs": [],
   "source": [
    "stats.poisson(params).pmf(data)"
   ]
  },
  {
   "cell_type": "code",
   "execution_count": null,
   "metadata": {},
   "outputs": [],
   "source": [
    "pois.log_likelihood - np.log(gamma(data + 1))"
   ]
  },
  {
   "cell_type": "code",
   "execution_count": null,
   "metadata": {},
   "outputs": [],
   "source": [
    "stats.poisson(params).logpmf(data)"
   ]
  },
  {
   "cell_type": "code",
   "execution_count": null,
   "metadata": {},
   "outputs": [],
   "source": [
    "isinstance(data_m, np.ndarray)\n",
    "data_m"
   ]
  },
  {
   "cell_type": "code",
   "execution_count": null,
   "metadata": {},
   "outputs": [],
   "source": []
  },
  {
   "cell_type": "code",
   "execution_count": 53,
   "metadata": {},
   "outputs": [
    {
     "output_type": "stream",
     "name": "stdout",
     "text": [
      "[0 0 3 3 0 2 2 2 3 1]\n[10 10 30 30 10 15 15 15 30 20]\n"
     ]
    },
    {
     "output_type": "execute_result",
     "data": {
      "text/plain": [
       "array([ 0.81493901,  2.18448713,  1.2807168 ,  2.79738633,  0.29827818,\n",
       "       -0.23825859,  3.09004956,  2.94042019,  3.764426  ,  0.26948499])"
      ]
     },
     "metadata": {},
     "execution_count": 53
    }
   ],
   "source": [
    "c = 4\n",
    "o = 3\n",
    "t = np.random.randint(c, size=10)\n",
    "print(t)\n",
    "\n",
    "means = np.array([10, 20, 15, 30])\n",
    "\n",
    "print(means[t])\n",
    "np.random.normal(t, 1)"
   ]
  },
  {
   "cell_type": "code",
   "execution_count": 64,
   "metadata": {},
   "outputs": [
    {
     "output_type": "execute_result",
     "data": {
      "text/plain": [
       "array([[0.08312119, 0.47187495, 0.44500385],\n",
       "       [0.08312119, 0.47187495, 0.44500385],\n",
       "       [0.42371954, 0.41175504, 0.16452542],\n",
       "       [0.42371954, 0.41175504, 0.16452542],\n",
       "       [0.08312119, 0.47187495, 0.44500385],\n",
       "       [0.26853605, 0.30268066, 0.42878329],\n",
       "       [0.26853605, 0.30268066, 0.42878329],\n",
       "       [0.26853605, 0.30268066, 0.42878329],\n",
       "       [0.42371954, 0.41175504, 0.16452542],\n",
       "       [0.50349964, 0.35689566, 0.13960469]])"
      ]
     },
     "metadata": {},
     "execution_count": 64
    }
   ],
   "source": [
    "p = np.random.uniform(size=(c, o))\n",
    "p = normArray(p)\n",
    "\n",
    "#np.random.choice(o, size=10, p=p[t,:])\n",
    "\n",
    "p[t,:]"
   ]
  }
 ]
}
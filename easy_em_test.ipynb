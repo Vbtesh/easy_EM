{
 "metadata": {
  "language_info": {
   "codemirror_mode": {
    "name": "ipython",
    "version": 3
   },
   "file_extension": ".py",
   "mimetype": "text/x-python",
   "name": "python",
   "nbconvert_exporter": "python",
   "pygments_lexer": "ipython3",
   "version": "3.8.6-final"
  },
  "orig_nbformat": 2,
  "kernelspec": {
   "name": "python3",
   "display_name": "Python 3",
   "language": "python"
  }
 },
 "nbformat": 4,
 "nbformat_minor": 2,
 "cells": [
  {
   "cell_type": "code",
   "execution_count": 9,
   "metadata": {},
   "outputs": [],
   "source": [
    "import numpy as np\n",
    "from classes.gaussian import Gaussian_mean\n",
    "from classes.poisson import Poisson\n",
    "from classes.multinomial import Multinomial\n",
    "from methods.general import normArray, genDiscreteDist\n",
    "import scipy.stats as stats\n",
    "from scipy.special import gamma\n",
    "import matplotlib.pyplot as plt"
   ]
  },
  {
   "cell_type": "code",
   "execution_count": 5,
   "metadata": {},
   "outputs": [
    {
     "output_type": "stream",
     "name": "stdout",
     "text": [
      "3\n[[0.35589737 0.47790861 0.16619401]]\n"
     ]
    },
    {
     "output_type": "execute_result",
     "data": {
      "text/plain": [
       "array([[0.31070487, 0.26323481, 0.42606031],\n",
       "       [0.17319043, 0.38517769, 0.44163188],\n",
       "       [0.62213782, 0.0958702 , 0.28199199],\n",
       "       [0.39985633, 0.12298383, 0.47715984],\n",
       "       [0.87226398, 0.01551819, 0.11221783],\n",
       "       [0.58161062, 0.35478827, 0.06360111],\n",
       "       [0.36241425, 0.39606714, 0.2415186 ],\n",
       "       [0.71118783, 0.10235056, 0.18646161],\n",
       "       [0.16646931, 0.4307149 , 0.40281579],\n",
       "       [0.44558396, 0.37370022, 0.18071582]])"
      ]
     },
     "metadata": {},
     "execution_count": 5
    }
   ],
   "source": [
    "dist1 = genDiscreteDist()\n",
    "\n",
    "dist2 = genDiscreteDist(i=10)\n",
    "\n",
    "print(np.argmax([2, 1, 2, 4]))\n",
    "\n",
    "print(dist1)\n",
    "dist2"
   ]
  },
  {
   "cell_type": "code",
   "execution_count": 37,
   "metadata": {},
   "outputs": [
    {
     "output_type": "execute_result",
     "data": {
      "text/plain": [
       "array([[0.3257589 ],\n",
       "       [0.32462019],\n",
       "       [0.32320992],\n",
       "       [0.37569003],\n",
       "       [0.36400564],\n",
       "       [0.35171769],\n",
       "       [0.31415187],\n",
       "       [0.32931687],\n",
       "       [0.36898525],\n",
       "       [0.3112523 ]])"
      ]
     },
     "metadata": {},
     "execution_count": 37
    }
   ],
   "source": [
    "dist2 @ dist1.reshape((3, 1))"
   ]
  },
  {
   "cell_type": "code",
   "execution_count": 38,
   "metadata": {},
   "outputs": [
    {
     "output_type": "execute_result",
     "data": {
      "text/plain": [
       "array([0.3257589 , 0.32462019, 0.32320992, 0.37569003, 0.36400564,\n",
       "       0.35171769, 0.31415187, 0.32931687, 0.36898525, 0.3112523 ])"
      ]
     },
     "metadata": {},
     "execution_count": 38
    }
   ],
   "source": [
    "np.sum(dist2 * dist1, axis=1)"
   ]
  },
  {
   "cell_type": "code",
   "execution_count": 28,
   "metadata": {},
   "outputs": [
    {
     "output_type": "stream",
     "name": "stdout",
     "text": [
      "[3 3 3 3 3 3 3 3 3 3]\n[[0.36324563 0.63243167 0.07551305 1.        ]\n [0.06702994 0.84703706 0.40539196 1.        ]\n [0.70459768 0.77334949 0.37368799 1.        ]\n [0.08307951 0.19136392 0.77157682 1.        ]\n [0.03399684 0.48144141 0.69926226 1.        ]\n [0.30126824 0.20208247 0.93714238 1.        ]\n [0.93442907 0.2692157  0.36819633 1.        ]\n [0.27600457 0.43373612 0.39068591 1.        ]\n [0.00473802 0.63994244 0.88524736 1.        ]\n [0.25915064 0.11423422 0.46072754 1.        ]]\n"
     ]
    },
    {
     "output_type": "execute_result",
     "data": {
      "text/plain": [
       "array([[1.        , 1.        , 1.        , 1.        ],\n",
       "       [1.        , 1.        , 1.        , 1.        ],\n",
       "       [1.        , 1.        , 1.        , 1.        ],\n",
       "       [0.08307951, 0.19136392, 0.77157682, 1.        ],\n",
       "       [0.03399684, 0.48144141, 0.69926226, 1.        ],\n",
       "       [0.30126824, 0.20208247, 0.93714238, 1.        ],\n",
       "       [0.93442907, 0.2692157 , 0.36819633, 1.        ],\n",
       "       [0.27600457, 0.43373612, 0.39068591, 1.        ],\n",
       "       [0.00473802, 0.63994244, 0.88524736, 1.        ],\n",
       "       [0.25915064, 0.11423422, 0.46072754, 1.        ]])"
      ]
     },
     "metadata": {},
     "execution_count": 28
    }
   ],
   "source": [
    "test = [\n",
    "    np.array([0.2, 0.8]),\n",
    "    np.array([0.1, 0.9]),\n",
    "    np.array([0.4, 0.6])\n",
    "]\n",
    "\n",
    "arr = np.array(test)\n",
    "arr\n",
    "np.mean(arr, axis=0)\n",
    "\n",
    "test = np.random.uniform(size=(10, 4))\n",
    "col = 3*np.ones(10).astype(int)\n",
    "print(col)\n",
    "test[:,col] = 1\n",
    "print(test)\n",
    "idx = np.array([0, 2, 1, 2]).reshape((2, 2))\n",
    "test[idx] = 1\n",
    "test"
   ]
  },
  {
   "cell_type": "code",
   "execution_count": 9,
   "metadata": {},
   "outputs": [
    {
     "output_type": "stream",
     "name": "stdout",
     "text": [
      "[[2]\n [1]\n [0]\n [2]\n [1]\n [0]]\nTrue\n"
     ]
    },
    {
     "output_type": "execute_result",
     "data": {
      "text/plain": [
       "array([[0.57177513, 0.17710017, 0.33629181, 0.26768731],\n",
       "       [0.38255002, 0.45751597, 0.22249206, 0.34206496],\n",
       "       [0.04567485, 0.36538386, 0.44121613, 0.39024773],\n",
       "       [0.57177513, 0.17710017, 0.33629181, 0.26768731],\n",
       "       [0.38255002, 0.45751597, 0.22249206, 0.34206496],\n",
       "       [0.04567485, 0.36538386, 0.44121613, 0.39024773]])"
      ]
     },
     "metadata": {},
     "execution_count": 9
    }
   ],
   "source": [
    "c = 4\n",
    "d = 6\n",
    "data_m = np.array([2, 1, 0, 2, 1, 0]).reshape((d, 1))\n",
    "print(data_m)\n",
    "\n",
    "mult = Multinomial('multi', c, data=data_m, num_outcomes=3)\n",
    "\n",
    "print(isinstance(data_m, np.ndarray))\n",
    "\n",
    "mult.params[data_m.flatten(), :]\n"
   ]
  },
  {
   "cell_type": "code",
   "execution_count": 12,
   "metadata": {},
   "outputs": [
    {
     "output_type": "execute_result",
     "data": {
      "text/plain": [
       "(array([0, 3], dtype=int64), array([0, 0], dtype=int64))"
      ]
     },
     "metadata": {},
     "execution_count": 12
    }
   ],
   "source": [
    "mult.likelihood.sum(axis=1)\n",
    "np.where(mult.likelihood > 0.5)"
   ]
  },
  {
   "cell_type": "code",
   "execution_count": 22,
   "metadata": {},
   "outputs": [
    {
     "output_type": "execute_result",
     "data": {
      "text/plain": [
       "array([1., 1., 1., 1.])"
      ]
     },
     "metadata": {},
     "execution_count": 22
    }
   ],
   "source": [
    "mult.params.sum(axis=0)"
   ]
  },
  {
   "cell_type": "code",
   "execution_count": 23,
   "metadata": {},
   "outputs": [
    {
     "output_type": "execute_result",
     "data": {
      "text/plain": [
       "array([[-2. , -1. , -0.2, -1. ],\n",
       "       [-2. , -1. , -0.2, -1. ],\n",
       "       [-2. , -1. , -0.2, -1. ],\n",
       "       [-2. , -1. , -0.2, -1. ],\n",
       "       [-2. , -1. , -0.2, -1. ],\n",
       "       [-2. , -1. , -0.2, -1. ],\n",
       "       [-2. , -1. , -0.2, -1. ],\n",
       "       [-2. , -1. , -0.2, -1. ],\n",
       "       [-2. , -1. , -0.2, -1. ],\n",
       "       [-2. , -1. , -0.2, -1. ]])"
      ]
     },
     "metadata": {},
     "execution_count": 23
    }
   ],
   "source": [
    "lp = np.array([-2, -1, -0.2, -1])\n",
    "\n",
    "lp * np.ones((10, 4))"
   ]
  },
  {
   "cell_type": "code",
   "execution_count": 18,
   "metadata": {},
   "outputs": [
    {
     "output_type": "stream",
     "name": "stdout",
     "text": [
      "[0.2 0.3 0.1 0.2]\n[0.25  0.375 0.125 0.25 ]\n[-1.60943791 -1.2039728  -2.30258509 -1.60943791]\n[0.08986579 0.13479869 0.0449329  0.08986579]\n"
     ]
    }
   ],
   "source": [
    "a = np.array([0.2, 0.3, 0.1, 0.2])\n",
    "b = np.log(a)\n",
    "b_norm = np.exp(b - np.sum(a))\n",
    "print(a)\n",
    "print(a / np.sum(a))\n",
    "print(b)\n",
    "print(b_norm)\n"
   ]
  },
  {
   "cell_type": "code",
   "execution_count": 19,
   "metadata": {},
   "outputs": [
    {
     "output_type": "stream",
     "name": "stdout",
     "text": [
      "4\n[[0.202918   0.54289964 0.0138171  0.24036526]\n [0.121079   0.01871384 0.16963117 0.69057599]\n [0.30277826 0.20078698 0.35904451 0.13739025]]\n[[0.30277826 0.20078698 0.35904451 0.13739025]\n [0.121079   0.01871384 0.16963117 0.69057599]\n [0.202918   0.54289964 0.0138171  0.24036526]\n [0.30277826 0.20078698 0.35904451 0.13739025]]\n[[0.30277826 0.20078698 0.35904451 0.13739025]\n [0.121079   0.01871384 0.16963117 0.69057599]\n [0.202918   0.54289964 0.0138171  0.24036526]\n [0.30277826 0.20078698 0.35904451 0.13739025]]\n"
     ]
    },
    {
     "output_type": "execute_result",
     "data": {
      "text/plain": [
       "array([[0.30277826, 0.20078698, 0.35904451, 0.13739025],\n",
       "       [1.121079  , 1.01871384, 1.16963117, 1.69057599],\n",
       "       [0.202918  , 0.54289964, 0.0138171 , 0.24036526],\n",
       "       [0.30277826, 0.20078698, 0.35904451, 0.13739025]])"
      ]
     },
     "metadata": {},
     "execution_count": 19
    }
   ],
   "source": [
    "data_m = np.array([2, 1, 0, 2]).reshape((4, 1))\n",
    "\n",
    "c = 4 # Clusters\n",
    "o = 3 # Outcomes\n",
    "\n",
    "probs = np.random.uniform(size=(o, c))\n",
    "\n",
    "probs = normArray(probs, axis=1)\n",
    "\n",
    "likelihood = np.zeros((data_m.shape[0], c))\n",
    "print(len(data_m))\n",
    "print(probs)\n",
    "\n",
    "for i in range(len(data_m)):\n",
    "    likelihood[i,:] = probs[data_m[i], :]\n",
    "\n",
    "print(likelihood)\n",
    "\n",
    "lkh = probs[data_m, np.arange(0, c)]\n",
    "\n",
    "print(lkh)\n",
    "\n",
    "lkh[1] += np.array([1, 1, 1, 1])\n",
    "\n",
    "lkh"
   ]
  },
  {
   "cell_type": "code",
   "execution_count": 20,
   "metadata": {},
   "outputs": [
    {
     "output_type": "stream",
     "name": "stdout",
     "text": [
      "[[0.64323975 0.2825023  0.5253643 ]\n [0.06344625 0.35371314 0.11126613]\n [0.293314   0.36378456 0.36336956]]\n"
     ]
    }
   ],
   "source": [
    "mult = Multinomial('multi', 3, 3, data=data_m)"
   ]
  },
  {
   "cell_type": "code",
   "execution_count": null,
   "metadata": {},
   "outputs": [],
   "source": []
  },
  {
   "cell_type": "code",
   "execution_count": 21,
   "metadata": {},
   "outputs": [
    {
     "output_type": "stream",
     "name": "stdout",
     "text": [
      "[3 2 1]\n"
     ]
    },
    {
     "output_type": "execute_result",
     "data": {
      "text/plain": [
       "array([60, 40, 20])"
      ]
     },
     "metadata": {},
     "execution_count": 21
    }
   ],
   "source": [
    "data = np.array([2, 4, 1, 3, 5, 5]).reshape((6, 1))\n",
    "\n",
    "params = np.array([3, 2, 1])\n",
    "\n",
    "\n",
    "print(params)\n",
    "\n",
    "np.sum(data*params, axis=0)"
   ]
  },
  {
   "cell_type": "code",
   "execution_count": 22,
   "metadata": {},
   "outputs": [
    {
     "output_type": "error",
     "ename": "ValueError",
     "evalue": "The truth value of an array with more than one element is ambiguous. Use a.any() or a.all()",
     "traceback": [
      "\u001b[1;31m---------------------------------------------------------------------------\u001b[0m",
      "\u001b[1;31mValueError\u001b[0m                                Traceback (most recent call last)",
      "\u001b[1;32m<ipython-input-22-df7e60b9e943>\u001b[0m in \u001b[0;36m<module>\u001b[1;34m\u001b[0m\n\u001b[0;32m      1\u001b[0m \u001b[0mnorm\u001b[0m \u001b[1;33m=\u001b[0m \u001b[0mGaussian_mean\u001b[0m\u001b[1;33m(\u001b[0m\u001b[1;34m'norm'\u001b[0m\u001b[1;33m,\u001b[0m \u001b[0mparams\u001b[0m\u001b[1;33m,\u001b[0m \u001b[0mdata\u001b[0m\u001b[1;33m)\u001b[0m\u001b[1;33m\u001b[0m\u001b[1;33m\u001b[0m\u001b[0m\n\u001b[1;32m----> 2\u001b[1;33m \u001b[0mpois\u001b[0m \u001b[1;33m=\u001b[0m \u001b[0mPoisson\u001b[0m\u001b[1;33m(\u001b[0m\u001b[1;34m'poisson'\u001b[0m\u001b[1;33m,\u001b[0m \u001b[1;36m3\u001b[0m\u001b[1;33m,\u001b[0m \u001b[0mdata\u001b[0m\u001b[1;33m,\u001b[0m \u001b[0mrates\u001b[0m\u001b[1;33m=\u001b[0m\u001b[0mparams\u001b[0m\u001b[1;33m)\u001b[0m\u001b[1;33m\u001b[0m\u001b[1;33m\u001b[0m\u001b[0m\n\u001b[0m\u001b[0;32m      3\u001b[0m \u001b[1;33m\u001b[0m\u001b[0m\n\u001b[0;32m      4\u001b[0m \u001b[0mpois\u001b[0m\u001b[1;33m.\u001b[0m\u001b[0mparams\u001b[0m\u001b[1;33m\u001b[0m\u001b[1;33m\u001b[0m\u001b[0m\n",
      "\u001b[1;32mc:\\Users\\vbtes\\CompProjects\\P_Projects\\easy_EM\\classes\\poisson.py\u001b[0m in \u001b[0;36m__init__\u001b[1;34m(self, name, num_clusters, data, rates)\u001b[0m\n\u001b[0;32m      9\u001b[0m \u001b[1;33m\u001b[0m\u001b[0m\n\u001b[0;32m     10\u001b[0m         \u001b[1;31m# Can be a single parameter or a vector of parameters, usually the latter\u001b[0m\u001b[1;33m\u001b[0m\u001b[1;33m\u001b[0m\u001b[1;33m\u001b[0m\u001b[0m\n\u001b[1;32m---> 11\u001b[1;33m         \u001b[1;32mif\u001b[0m \u001b[0mrates\u001b[0m \u001b[1;33m!=\u001b[0m \u001b[1;32mNone\u001b[0m\u001b[1;33m:\u001b[0m\u001b[1;33m\u001b[0m\u001b[1;33m\u001b[0m\u001b[0m\n\u001b[0m\u001b[0;32m     12\u001b[0m             \u001b[1;31m# If none are given generate a vector of rate normally distributed around the sample mean with sample variance\u001b[0m\u001b[1;33m\u001b[0m\u001b[1;33m\u001b[0m\u001b[1;33m\u001b[0m\u001b[0m\n\u001b[0;32m     13\u001b[0m             \u001b[0mself\u001b[0m\u001b[1;33m.\u001b[0m\u001b[0mparams\u001b[0m \u001b[1;33m=\u001b[0m \u001b[0mnp\u001b[0m\u001b[1;33m.\u001b[0m\u001b[0mrandom\u001b[0m\u001b[1;33m.\u001b[0m\u001b[0mnormal\u001b[0m\u001b[1;33m(\u001b[0m\u001b[0mloc\u001b[0m\u001b[1;33m=\u001b[0m\u001b[0mnp\u001b[0m\u001b[1;33m.\u001b[0m\u001b[0mmean\u001b[0m\u001b[1;33m(\u001b[0m\u001b[0mdata\u001b[0m\u001b[1;33m)\u001b[0m\u001b[1;33m,\u001b[0m \u001b[0mscale\u001b[0m\u001b[1;33m=\u001b[0m\u001b[0mnp\u001b[0m\u001b[1;33m.\u001b[0m\u001b[0mvar\u001b[0m\u001b[1;33m(\u001b[0m\u001b[0mdata\u001b[0m\u001b[1;33m)\u001b[0m\u001b[1;33m,\u001b[0m \u001b[0msize\u001b[0m\u001b[1;33m=\u001b[0m\u001b[0mnum_clusters\u001b[0m\u001b[1;33m)\u001b[0m\u001b[1;33m\u001b[0m\u001b[1;33m\u001b[0m\u001b[0m\n",
      "\u001b[1;31mValueError\u001b[0m: The truth value of an array with more than one element is ambiguous. Use a.any() or a.all()"
     ]
    }
   ],
   "source": [
    "norm = Gaussian_mean('norm', params, data)\n",
    "pois = Poisson('poisson', 3, data, rates=params)\n",
    "\n",
    "pois.params"
   ]
  },
  {
   "cell_type": "code",
   "execution_count": null,
   "metadata": {},
   "outputs": [],
   "source": [
    "norm.likelihood"
   ]
  },
  {
   "cell_type": "code",
   "execution_count": null,
   "metadata": {},
   "outputs": [],
   "source": [
    "norm.log_likelihood"
   ]
  },
  {
   "cell_type": "code",
   "execution_count": null,
   "metadata": {},
   "outputs": [],
   "source": [
    "norm.log_likelihood + np.log(1 / np.sqrt(2 * np.pi * norm.variance))"
   ]
  },
  {
   "cell_type": "code",
   "execution_count": null,
   "metadata": {},
   "outputs": [],
   "source": [
    "stats.norm(params, np.sqrt(np.var(data))).pdf(data)"
   ]
  },
  {
   "cell_type": "code",
   "execution_count": null,
   "metadata": {},
   "outputs": [],
   "source": [
    "stats.norm(params, np.sqrt(np.var(data))).logpdf(data)"
   ]
  },
  {
   "cell_type": "code",
   "execution_count": null,
   "metadata": {},
   "outputs": [],
   "source": [
    "pois.likelihood"
   ]
  },
  {
   "cell_type": "code",
   "execution_count": null,
   "metadata": {},
   "outputs": [],
   "source": [
    "stats.poisson(params).pmf(data)"
   ]
  },
  {
   "cell_type": "code",
   "execution_count": null,
   "metadata": {},
   "outputs": [],
   "source": [
    "pois.log_likelihood - np.log(gamma(data + 1))"
   ]
  },
  {
   "cell_type": "code",
   "execution_count": null,
   "metadata": {},
   "outputs": [],
   "source": [
    "stats.poisson(params).logpmf(data)"
   ]
  },
  {
   "cell_type": "code",
   "execution_count": null,
   "metadata": {},
   "outputs": [],
   "source": [
    "isinstance(data_m, np.ndarray)\n",
    "data_m"
   ]
  },
  {
   "cell_type": "code",
   "execution_count": null,
   "metadata": {},
   "outputs": [],
   "source": []
  },
  {
   "cell_type": "code",
   "execution_count": 53,
   "metadata": {},
   "outputs": [
    {
     "output_type": "stream",
     "name": "stdout",
     "text": [
      "[0 0 3 3 0 2 2 2 3 1]\n[10 10 30 30 10 15 15 15 30 20]\n"
     ]
    },
    {
     "output_type": "execute_result",
     "data": {
      "text/plain": [
       "array([ 0.81493901,  2.18448713,  1.2807168 ,  2.79738633,  0.29827818,\n",
       "       -0.23825859,  3.09004956,  2.94042019,  3.764426  ,  0.26948499])"
      ]
     },
     "metadata": {},
     "execution_count": 53
    }
   ],
   "source": [
    "c = 4\n",
    "o = 3\n",
    "t = np.random.randint(c, size=10)\n",
    "print(t)\n",
    "\n",
    "means = np.array([10, 20, 15, 30])\n",
    "\n",
    "print(means[t])\n",
    "np.random.normal(t, 1)"
   ]
  },
  {
   "cell_type": "code",
   "execution_count": 13,
   "metadata": {},
   "outputs": [
    {
     "output_type": "error",
     "ename": "NameError",
     "evalue": "name 'o' is not defined",
     "traceback": [
      "\u001b[1;31m---------------------------------------------------------------------------\u001b[0m",
      "\u001b[1;31mNameError\u001b[0m                                 Traceback (most recent call last)",
      "\u001b[1;32m<ipython-input-13-2b6d99711764>\u001b[0m in \u001b[0;36m<module>\u001b[1;34m\u001b[0m\n\u001b[1;32m----> 1\u001b[1;33m \u001b[0mp\u001b[0m \u001b[1;33m=\u001b[0m \u001b[0mnp\u001b[0m\u001b[1;33m.\u001b[0m\u001b[0mrandom\u001b[0m\u001b[1;33m.\u001b[0m\u001b[0muniform\u001b[0m\u001b[1;33m(\u001b[0m\u001b[0msize\u001b[0m\u001b[1;33m=\u001b[0m\u001b[1;33m(\u001b[0m\u001b[0mc\u001b[0m\u001b[1;33m,\u001b[0m \u001b[0mo\u001b[0m\u001b[1;33m)\u001b[0m\u001b[1;33m)\u001b[0m\u001b[1;33m\u001b[0m\u001b[1;33m\u001b[0m\u001b[0m\n\u001b[0m\u001b[0;32m      2\u001b[0m \u001b[0mp\u001b[0m \u001b[1;33m=\u001b[0m \u001b[0mnormArray\u001b[0m\u001b[1;33m(\u001b[0m\u001b[0mp\u001b[0m\u001b[1;33m)\u001b[0m\u001b[1;33m\u001b[0m\u001b[1;33m\u001b[0m\u001b[0m\n\u001b[0;32m      3\u001b[0m \u001b[1;33m\u001b[0m\u001b[0m\n\u001b[0;32m      4\u001b[0m \u001b[1;31m#np.random.choice(o, size=10, p=p[t,:])\u001b[0m\u001b[1;33m\u001b[0m\u001b[1;33m\u001b[0m\u001b[1;33m\u001b[0m\u001b[0m\n\u001b[0;32m      5\u001b[0m \u001b[1;33m\u001b[0m\u001b[0m\n",
      "\u001b[1;31mNameError\u001b[0m: name 'o' is not defined"
     ]
    }
   ],
   "source": [
    "p = np.random.uniform(size=(c, o))\n",
    "p = normArray(p)\n",
    "\n",
    "#np.random.choice(o, size=10, p=p[t,:])\n",
    "\n",
    "p[t,:]"
   ]
  },
  {
   "cell_type": "code",
   "execution_count": 19,
   "metadata": {},
   "outputs": [
    {
     "output_type": "execute_result",
     "data": {
      "text/plain": [
       "-inf"
      ]
     },
     "metadata": {},
     "execution_count": 19
    }
   ],
   "source": [
    "np.exp(-np.inf)\n",
    "np.log(0)"
   ]
  },
  {
   "cell_type": "code",
   "execution_count": 21,
   "metadata": {},
   "outputs": [
    {
     "output_type": "execute_result",
     "data": {
      "text/plain": [
       "10000000000000000000000000000000000000000000000000000000000000000000000000000000000000000000000000000000000000000000000000000000000000000000000000000000000000000000000000000000000000000000000000000000000"
      ]
     },
     "metadata": {},
     "execution_count": 21
    }
   ],
   "source": [
    "100**101"
   ]
  }
 ]
}